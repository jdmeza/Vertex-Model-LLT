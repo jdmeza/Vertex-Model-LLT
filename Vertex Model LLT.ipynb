{
 "cells": [
  {
   "cell_type": "markdown",
   "metadata": {},
   "source": [
    "# Vertex Models for LLT polynomials\n",
    "\n",
    "We wish to find a vertex model whose partition function gives LLT polynomials.\n",
    "See: https://arxiv.org/pdf/1904.06804.pdf for the model that Borodin-Wheeler give for non-symmetric Macdonald polynomials.\n",
    "\n",
    "We start with the definition of LLT polynomials á la HHLRU.\n",
    "\n",
    "Viewing a Young diagram as a subset of $\\mathbb{Z} \\times \\mathbb{Z}$, we define a *skew shape with contents* to be an equivalence class of a skew Young diagram up to content-preserving translations. Given a tuple $\\vec{\\beta}/\\vec{\\gamma} = (\\beta^{(1)}/\\gamma^{(1)}, \\ldots, \\beta^{(k)}/\\gamma^{(k)})$ of skew shapes with contents, a semistandard Young tableau $T$ of shape $\\vec{\\beta}/\\vec{\\gamma}$ is a semistandard Young tableau on each $\\beta^{(j)}/\\gamma^{(j)}$.  A useful way to picture this is by placing the Young diagrams diagonally \"on content lines\" with the first shape in the South-West and the last shape in the North-East (all in French notation).\n",
    "\n",
    "Let $T = (T^{(1)}, \\ldots, T^{(k)})$ be a SSYT on a tuple of skew shapes with contents. Recall that the content of a cell $(i,j)$ is defined as $c((i,j)) = j-i$. Given a cell $x$ in $T^{(r)}$, we define the *adjusted content* to be $\\tilde{c}(x) = c(x)k + r-1$. We choose the reading order on cells so that their adjusted contents increase.\n",
    "\n",
    "We say two cells **attack** each other if either (1) they are on the same content line or (2) they are on adjacent content lines, with the cell on the larger content line in an earlier shape. In other words, two cells attack each other if their adjusted contents differ by less than $k$.\n",
    "\n",
    "Given a definition of \"attacking\" (which will change below), we define an **attacking inversion** to be a pair of attacking boxes in which the larger entry precedes the smaller in reading order.\n",
    "\n",
    "#### Definition\n",
    "\n",
    "Let $\\vec{\\beta}/\\vec{\\gamma}$ be a tuple of skew shapes with contents. The LLT polynomial is defined as\n",
    "$$\\mathcal{G}_{\\vec{\\beta}/\\vec{\\gamma}}(x; t) = \\sum_{T \\in SSYT(\\vec{\\beta}/\\vec{\\gamma})} t^{\\text{inv}(T)} x^T $$\n",
    "where inv(T) is the number of attacking inversions of $T$.\n",
    "\n",
    "### Relating LLT polynomials to Hall-Littlewood polynomials\n",
    "\n",
    "We start by rephrasing the definition when each shape in $\\vec{\\beta}/\\vec{\\gamma}$ consists of a single row. If the rows form a straight shape $\\mu$, then we abuse notation slightly and denote the LLT polynomial as $\\mathcal{G}_\\mu(X; t)$. We let $\\sigma: \\mu \\to [m]$ denote a filling of shape $\\mu$.\n",
    "\n",
    "Then,\n",
    "$$ \\mathcal{G}_\\mu(X; t) = \\sum_{\\substack{ \\sigma: \\mu \\to [m] \\\\ row \\; \\leq }}  t^{\\text{inv}(T)} x^T $$\n",
    "where inv($T$) is the number of attacking inversions of $T$ with respect to the reading order **bottom to top, left to right** (in French notation). To elaborate, we say 2 cells attack each other if they are in the same column or adjacent columns and the box in the right is in a lower row.\n",
    "\n",
    "The transformed Hall-Littlewood polynomials $\\widetilde{H}_\\mu$ are given, á la HHL, by\n",
    "$$ \\widetilde{H}_\\mu(X; t) = \\sum_{\\substack{ \\sigma: \\mu \\to [m] \\\\ row \\; \\geq }} t^{\\text{inv}(T)} x^T $$\n",
    "where inv($T$) is the number of attacking inversions of $T$ with respect to the reading order **bottom to top, right to left**. To elaborate, we say 2 cells attack each other if they are in the same column or adjacent columns and the box in the left is in a lower row.\n",
    "\n",
    "#### Theorem \n",
    "$$\\mathcal{G}_\\mu(X; t) = \\widetilde{H}_\\mu(X; t)$$\n",
    "\n",
    "#### Remark\n",
    "(i) For the reading order bottom to top, left to right in the calculation of $\\mathcal{G}_\\mu$, each attacking inversion gives a unique *triple* of boxes\n",
    "\n",
    "\\begin{align}\n",
    "| a & | c | \\\\\n",
    "& \\vdots \\\\\n",
    "& | b |\n",
    "\\end{align}\n",
    "\n",
    "with either $b < a \\leq c$ or $a \\leq c < b$, where we set $c=\\infty$ and $a=0$ if the respective box is not in $\\mu$. Indeed, $(a,b)$ is an inversion in the former and $(b,c)$ in the latter. For this reading order, we set $\\text{coinv}(T) = m(\\mu) - \\text{inv}(T)$, where $m(\\mu)$ is the total number of triples in $\\mu$. Alternatively, $\\text{coinv}(T)$ is the number of **increasing triples**, i.e. triples of boxes as above with $a \\leq b \\leq c$, where again we set $c=\\infty$ and $a=0$ if the respective box is not in $\\mu$.\n",
    "\n",
    "(ii) For the reading order bottom to top, right to left in the calculation of $\\widetilde{H}_\\mu$, each attacking inversion gives a unique triple of boxes\n",
    "\n",
    "\\begin{align}\n",
    "& | v | \\\\\n",
    "& \\vdots \\\\\n",
    "| w & | u |\n",
    "\\end{align}\n",
    "\n",
    "with either $v > w \\geq u$ or $w \\geq u > v$, where we set $w=\\infty$ if the box is not in $\\mu$. Indeed, $(v,w)$ is an inversion in the former and $(u,v)$ in the latter. For this reading order, we set $\\text{coinv}(T) = n(\\mu) - \\text{inv}(T)$, where $n(\\mu)$ is the total number of attacking boxes in $\\mu$ wrt the reading order bottom to top, right to left. Alternatively, $\\text{coinv}(T)$ is the number of triples of boxes as above with $w \\geq v \\geq u$, where again we set $w=\\infty$ if the box is not in $\\mu$.\n",
    "\n",
    "We can now state the coinversion variant of the theorem above.\n",
    "Recall that the Hall-Littlewood polynomials $H_\\mu$ are given by\n",
    "$$ H_\\mu(X; t) = t^{n(\\mu)} \\widetilde{H}_\\mu(X; t^{-1}) = \\sum_{\\substack{ \\sigma: \\mu \\to [m] \\\\ row \\; \\geq }} t^{\\text{coinv}(T)} x^T $$\n",
    "where $\\text{coinv}(T)$ is wrt the reading order bottom to top, right to left.  \n",
    "Let\n",
    "$$ \\mathcal{L}_\\mu(X; t) = t^{m(\\mu)} \\mathcal{G}_\\mu(X; t^{-1}) = \\sum_{\\substack{ \\sigma: \\mu \\to [m] \\\\ row \\; \\leq }} t^{\\text{coinv}(T)} x^T $$\n",
    "where $\\text{coinv}(T)$ is wrt the reading order bottom to top, left to right.\n",
    "\n",
    "Putting everything together, we have\n",
    "$$ \\mathcal{L}_\\mu(X; t) = t^d H_\\mu(X; t), \\qquad d = m(\\mu) - n(\\mu) $$"
   ]
  },
  {
   "cell_type": "markdown",
   "metadata": {},
   "source": [
    "## Examples"
   ]
  },
  {
   "cell_type": "markdown",
   "metadata": {},
   "source": [
    "### Symmetric Macdonald Polynomials\n",
    "See: https://www.math.sciences.univ-nantes.fr/~sorger/chow/html/en/reference/combinat/sage/combinat/sf/macdonald.html"
   ]
  },
  {
   "cell_type": "code",
   "execution_count": 34,
   "metadata": {},
   "outputs": [
    {
     "name": "stdout",
     "output_type": "stream",
     "text": [
      "Ht:  q*t*s[1, 1, 1] + (q+t)*s[2, 1] + s[3]\n",
      "H:  q*s[1, 1, 1] + (q*t+1)*s[2, 1] + t*s[3]\n",
      "J:  (q*t^3-t^4-q*t^2+t^3-q*t+t^2+q-t)*s[1, 1, 1] + (-q*t^4+2*q*t^3-q*t^2+t^2-2*t+1)*s[2, 1]\n",
      "J[X/(1-t)]:  q*s[1, 1, 1] + (q*t+1)*s[2, 1] + t*s[3]\n"
     ]
    }
   ],
   "source": [
    "Sym = SymmetricFunctions(FractionField(QQ['q','t']))\n",
    "(q,t) = Sym.base_ring().gens()\n",
    "s = Sym.schur()\n",
    "H = Sym.macdonald().H() # H\n",
    "Ht = Sym.macdonald().Ht() # H tilde\n",
    "J = Sym.macdonald().J() # integral form\n",
    "\n",
    "print \"Ht: \", s(Ht[2,1,0])\n",
    "print \"H: \", s(H[2,1,0])\n",
    "print \"J: \", s(J[2,1,0])\n",
    "# check plethysm\n",
    "print \"J[X/(1-t)]: \", s(J[2,1].plethysm(s[1]/(1-t)))"
   ]
  },
  {
   "cell_type": "markdown",
   "metadata": {},
   "source": [
    "### Symmetric Hall-Littlewood Polynomials\n",
    "See: http://doc.sagemath.org/html/en/reference/combinat/sage/combinat/sf/hall_littlewood.html"
   ]
  },
  {
   "cell_type": "code",
   "execution_count": 46,
   "metadata": {},
   "outputs": [
    {
     "name": "stdout",
     "output_type": "stream",
     "text": [
      "HLH:  s[3, 2] + t*s[4, 1] + t^2*s[5]\n",
      "HLHt:  t^2*s[3, 2] + t*s[4, 1] + s[5]\n",
      "Macdonald H at q=0:  s[3, 2] + t*s[4, 1] + t^2*s[5]\n",
      "Equal?  True\n"
     ]
    }
   ],
   "source": [
    "Sym = SymmetricFunctions(FractionField(QQ['q','t']))\n",
    "s = Sym.schur()\n",
    "HLH = Sym.hall_littlewood().Qp() # Hall-Littlewood H\n",
    "HLHt = Sym.macdonald(q=0).Ht() # Hall-littlewood H tilde\n",
    "\n",
    "print \"HLH: \", s(HLH([3,2])) \n",
    "print \"HLHt: \", s(HLHt[3,2])\n",
    "# set q=0 in Macdonald H and check is equal to Hall-Littlewood H\n",
    "H = Sym.macdonald(q=0).H()\n",
    "print \"Macdonald H at q=0: \", s(H([3,2]))\n",
    "print \"Equal? \", H([3,2]) == HLH([3,2])\n",
    "\n"
   ]
  },
  {
   "cell_type": "markdown",
   "metadata": {},
   "source": [
    "### LLT polynomials\n",
    "See: http://doc.sagemath.org/html/en/reference/combinat/sage/combinat/sf/llt.html"
   ]
  },
  {
   "cell_type": "code",
   "execution_count": 124,
   "metadata": {},
   "outputs": [
    {
     "name": "stdout",
     "output_type": "stream",
     "text": [
      "G:  t^3*s[2, 1, 1] + t^2*s[2, 2] + (t^2+t)*s[3, 1] + s[4]\n",
      "HLHt:  t^3*s[2, 1, 1] + t^2*s[2, 2] + (t^2+t)*s[3, 1] + s[4]\n",
      "Equal?  False\n",
      "G:  t^3*s[2, 1, 1, 1] + (t^3+t^2)*s[2, 2, 1] + (t^3+t^2+t)*s[3, 1, 1] + (2*t^2+t)*s[3, 2] + (t^2+t+1)*s[4, 1] + s[5]\n",
      "G:  t^2*s[3, 2] + t*s[4, 1] + s[5]\n"
     ]
    }
   ],
   "source": [
    "Sym = SymmetricFunctions(FractionField(QQ['t']))\n",
    "s = Sym.schur()\n",
    "k = 3 # length of tuple of partitions\n",
    "G = Sym.llt(k).hcospin() # LLT polynomials 'G' defined above for single partitions\n",
    "print \"G: \", s(G([2,1,1]))\n",
    "# check G = H tilde\n",
    "print \"HLHt: \", s(HLHt[2,1,1])\n",
    "# WARNING: G and HLHt are different objects, so technically not equal in Sage:\n",
    "print \"Equal? \", HLHt[2,1,1] == G[2,1,1]\n",
    "\n",
    "# LLT polynomials indexed by tuple of skew partitions\n",
    "G = Sym.llt(k)\n",
    "print \"G: \", s(G.cospin([ [[2,1],[1]], [[1],[0]], [[2],[0]] ]))\n",
    "print \"G: \", s(G.cospin([[3],[2],[0]]))"
   ]
  },
  {
   "cell_type": "markdown",
   "metadata": {},
   "source": [
    "### Non-symmetric Macdonald Polynomials\n",
    "See: http://doc.sagemath.org/html/en/reference/combinat/sage/combinat/sf/ns_macdonald.html"
   ]
  },
  {
   "cell_type": "code",
   "execution_count": 207,
   "metadata": {},
   "outputs": [
    {
     "name": "stdout",
     "output_type": "stream",
     "text": [
      "E:  ((-t + 1)/(-q*t^2 + 1))*x0*x1 + x0*x2\n",
      "E_integral:  (q*t^3 - q*t^2 - t + 1)*x0*x1 + (t^2 - 2*t + 1)*x0*x2\n"
     ]
    }
   ],
   "source": [
    "from sage.combinat.sf.ns_macdonald import E, E_integral\n",
    "print \"E: \", E([1,0,1])\n",
    "print \"E_integral: \", E_integral([1,0,1])"
   ]
  },
  {
   "cell_type": "markdown",
   "metadata": {},
   "source": [
    "### Non-symmetric Hall-Littlewood Polynomials and key polynomials"
   ]
  },
  {
   "cell_type": "code",
   "execution_count": 231,
   "metadata": {},
   "outputs": [
    {
     "name": "stdout",
     "output_type": "stream",
     "text": [
      "Defining q, t\n",
      "Defining x1, x2, x3\n",
      "Defining q, t, x1, x2, x3\n",
      "E:  ((-t + 1)/(-q*t^2 + 1))*x0*x1 + x0*x2\n",
      "NsymHL:  (-t + 1)*x1*x2 + x1*x3\n",
      "key:  x1*x3\n"
     ]
    }
   ],
   "source": [
    "# Sage doesn't already have this implemented, so we do it ourselves.\n",
    "# To evaluate E at q=0, we first need to coerce into the correct polynomial ring\n",
    "\n",
    "from sage.combinat.sf.ns_macdonald import E, E_integral\n",
    "nvar = 3 # number of variables\n",
    "x_vars = var(['x{0}'.format(i) for i in range(1, nvar+1)])\n",
    "qtx_vars = var(['q','t'] + ['x{0}'.format(i) for i in range(1, nvar+1)])\n",
    "K = FractionField(QQ['q, t'])\n",
    "S = LaurentPolynomialRing(K, x_vars, order='lex')\n",
    "R = LaurentPolynomialRing(QQ, qtx_vars, order='lex')\n",
    "F = FractionField(R)\n",
    "K.inject_variables()\n",
    "S.inject_variables()\n",
    "R.inject_variables()\n",
    "\n",
    "def to_poly(pd):\n",
    "    ''' Converts a poly_dict object (which E is e.g.) to a polynomial in F'''\n",
    "    p = 0\n",
    "    for (exp, coeff) in pd.dict().items():\n",
    "        mon = (0,0) + tuple(exp)\n",
    "        p += F(coeff)*F(R.monomial(*mon))\n",
    "    return p\n",
    "\n",
    "def NsymHL(mu):\n",
    "    ''' Return non-symmetric Hall-Littlewood polynomial defined by\n",
    "        setting q=0 in E[mu].\n",
    "        \n",
    "        Input:\n",
    "            - ``mu`` -- a composition or list of non-negative integers\n",
    "            \n",
    "        Output:\n",
    "            - object in Laurent Polynomial ring with coefficients in \n",
    "              Fraction Field of QQ[t]\n",
    "    '''\n",
    "    p = to_poly(E(mu))\n",
    "    return S(R(p.subs(q=0)))\n",
    "\n",
    "def key(mu):\n",
    "    ''' Return key polynomials defined by setting q=infty and t=infty in E[mu].\n",
    "    \n",
    "        Input:\n",
    "            - ``mu`` -- a composition or list of non-negative integers\n",
    "            \n",
    "        Output:\n",
    "            - object in Laurent Polynomial ring with coefficients in QQ\n",
    "    \n",
    "        WARNING:\n",
    "            - This is not the same as the Demazure characters, which sets q=t=0.\n",
    "    '''\n",
    "    p = to_poly(E(mu)).subs(q=q^-1,t=t^-1)\n",
    "    return S(R(p.subs(q=0,t=0)))\n",
    "\n",
    "############################################\n",
    "\n",
    "mu = [1,0,1] # length must be less than number of variables\n",
    "print \"E: \", E(mu)\n",
    "print \"NsymHL: \", NsymHL(mu)\n",
    "print \"key: \", key(mu)"
   ]
  },
  {
   "cell_type": "code",
   "execution_count": null,
   "metadata": {},
   "outputs": [],
   "source": []
  },
  {
   "cell_type": "code",
   "execution_count": null,
   "metadata": {},
   "outputs": [],
   "source": []
  }
 ],
 "metadata": {
  "kernelspec": {
   "display_name": "SageMath 8.3",
   "language": "",
   "name": "sagemath"
  },
  "language_info": {
   "codemirror_mode": {
    "name": "ipython",
    "version": 2
   },
   "file_extension": ".py",
   "mimetype": "text/x-python",
   "name": "python",
   "nbconvert_exporter": "python",
   "pygments_lexer": "ipython2",
   "version": "2.7.15"
  }
 },
 "nbformat": 4,
 "nbformat_minor": 2
}
